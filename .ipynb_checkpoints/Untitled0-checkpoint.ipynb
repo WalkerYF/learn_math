{
 "metadata": {
  "name": "",
  "signature": "sha256:7fa8e9fe2b29462f58b9ec081a6fef127b5658f73db03c45f8cd06933e02b130"
 },
 "nbformat": 3,
 "nbformat_minor": 0,
 "worksheets": []
}